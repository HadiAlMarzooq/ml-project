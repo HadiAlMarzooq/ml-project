{
 "cells": [
  {
   "cell_type": "code",
   "execution_count": 1,
   "metadata": {},
   "outputs": [
    {
     "name": "stderr",
     "output_type": "stream",
     "text": [
      "23/12/12 00:03:41 WARN Utils: Your hostname, Hadis-MacBook-Air.local resolves to a loopback address: 127.0.0.1; using 10.83.92.176 instead (on interface en0)\n",
      "23/12/12 00:03:41 WARN Utils: Set SPARK_LOCAL_IP if you need to bind to another address\n",
      "Setting default log level to \"WARN\".\n",
      "To adjust logging level use sc.setLogLevel(newLevel). For SparkR, use setLogLevel(newLevel).\n",
      "23/12/12 00:03:41 WARN NativeCodeLoader: Unable to load native-hadoop library for your platform... using builtin-java classes where applicable\n",
      "23/12/12 00:03:42 WARN Utils: Service 'SparkUI' could not bind on port 4040. Attempting port 4041.\n",
      "23/12/12 00:03:49 WARN InstanceBuilder: Failed to load implementation from:dev.ludovic.netlib.blas.JNIBLAS\n"
     ]
    },
    {
     "name": "stdout",
     "output_type": "stream",
     "text": [
      "Logistic Regression Accuracy: 0.8829173025712131\n",
      "Random Forest Classifier Accuracy: 0.8704215489887038\n"
     ]
    }
   ],
   "source": [
    "from pyspark.sql import SparkSession\n",
    "from pyspark.ml.feature import StringIndexer, VectorAssembler, MinMaxScaler\n",
    "from pyspark.ml.classification import LogisticRegression, RandomForestClassifier\n",
    "from pyspark.ml import Pipeline\n",
    "from pyspark.ml.evaluation import BinaryClassificationEvaluator\n",
    "from pyspark.sql.functions import col, when\n",
    "\n",
    "# Initialize Spark Session\n",
    "spark = SparkSession.builder.appName(\"HousingPriceClassification\").getOrCreate()\n",
    "\n",
    "# Load data\n",
    "data = spark.read.csv('housing_data.csv', inferSchema=True, header=True)\n",
    "\n",
    "# Preprocess data\n",
    "# Convert Neighborhood to numeric\n",
    "indexer = StringIndexer(inputCol=\"Neighborhood\", outputCol=\"NeighborhoodIndex\")\n",
    "data = indexer.fit(data).transform(data)\n",
    "\n",
    "# Create binary target variable (1 if price above median, else 0)\n",
    "median_price = data.approxQuantile(\"Price\", [0.5], 0)[0]\n",
    "data = data.withColumn(\"label\", when(col(\"Price\") > median_price, 1).otherwise(0))\n",
    "\n",
    "# Assemble features\n",
    "assembler = VectorAssembler(inputCols=[\"SquareFeet\", \"Bedrooms\", \"Bathrooms\", \"NeighborhoodIndex\", \"YearBuilt\"], outputCol=\"features\")\n",
    "scaler = MinMaxScaler(inputCol=\"features\", outputCol=\"scaledFeatures\")\n",
    "\n",
    "# Split data\n",
    "train_data, test_data = data.randomSplit([0.7, 0.3])\n",
    "\n",
    "# Model 1: Logistic Regression\n",
    "lr = LogisticRegression(featuresCol=\"scaledFeatures\", labelCol=\"label\")\n",
    "\n",
    "# Model 2: Random Forest Classifier\n",
    "rf = RandomForestClassifier(featuresCol=\"scaledFeatures\", labelCol=\"label\")\n",
    "\n",
    "# Pipeline for Logistic Regression\n",
    "pipeline_lr = Pipeline(stages=[assembler, scaler, lr])\n",
    "model_lr = pipeline_lr.fit(train_data)\n",
    "predictions_lr = model_lr.transform(test_data)\n",
    "\n",
    "# Pipeline for Random Forest\n",
    "pipeline_rf = Pipeline(stages=[assembler, scaler, rf])\n",
    "model_rf = pipeline_rf.fit(train_data)\n",
    "predictions_rf = model_rf.transform(test_data)\n",
    "\n",
    "# Evaluate models\n",
    "evaluator = BinaryClassificationEvaluator(labelCol=\"label\")\n",
    "accuracy_lr = evaluator.evaluate(predictions_lr)\n",
    "accuracy_rf = evaluator.evaluate(predictions_rf)\n",
    "\n",
    "print(f\"Logistic Regression Accuracy: {accuracy_lr}\")\n",
    "print(f\"Random Forest Classifier Accuracy: {accuracy_rf}\")\n"
   ]
  },
  {
   "cell_type": "code",
   "execution_count": null,
   "metadata": {},
   "outputs": [],
   "source": []
  }
 ],
 "metadata": {
  "kernelspec": {
   "display_name": "Python 3",
   "language": "python",
   "name": "python3"
  },
  "language_info": {
   "codemirror_mode": {
    "name": "ipython",
    "version": 3
   },
   "file_extension": ".py",
   "mimetype": "text/x-python",
   "name": "python",
   "nbconvert_exporter": "python",
   "pygments_lexer": "ipython3",
   "version": "3.11.6"
  }
 },
 "nbformat": 4,
 "nbformat_minor": 2
}
